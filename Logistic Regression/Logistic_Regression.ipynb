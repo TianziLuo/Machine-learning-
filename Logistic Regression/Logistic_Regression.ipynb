{
  "nbformat": 4,
  "nbformat_minor": 0,
  "metadata": {
    "colab": {
      "provenance": []
    },
    "kernelspec": {
      "name": "python3",
      "display_name": "Python 3"
    },
    "language_info": {
      "name": "python"
    }
  },
  "cells": [
    {
      "cell_type": "code",
      "execution_count": 1,
      "metadata": {
        "id": "FM02NKO15yJs",
        "colab": {
          "base_uri": "https://localhost:8080/"
        },
        "outputId": "91832e0b-7258-43fc-e4b2-ffe0be433a30"
      },
      "outputs": [
        {
          "output_type": "stream",
          "name": "stdout",
          "text": [
            "Drive already mounted at /content/gdrive; to attempt to forcibly remount, call drive.mount(\"/content/gdrive\", force_remount=True).\n"
          ]
        }
      ],
      "source": [
        "import numpy as np\n",
        "import pandas as pd\n",
        "from google.colab import drive \n",
        "drive.mount('/content/gdrive')"
      ]
    },
    {
      "cell_type": "code",
      "source": [
        "df = pd.read_csv('/content/gdrive/MyDrive/machine learning/dataset/Social_Network_Ads.csv')\n",
        "#df.isnull().sum()\n",
        "#df.duplicated().sum()\n",
        "df.drop(columns=['User ID'],inplace=True)\n",
        "df['Gender'].replace(to_replace=['Male','Female'],value=[1,0],inplace=True)\n",
        "df.head()"
      ],
      "metadata": {
        "colab": {
          "base_uri": "https://localhost:8080/",
          "height": 206
        },
        "id": "KETz8BHbsgSV",
        "outputId": "bdb51201-5904-432c-c613-ea485919da27"
      },
      "execution_count": 2,
      "outputs": [
        {
          "output_type": "execute_result",
          "data": {
            "text/plain": [
              "   Gender  Age  EstimatedSalary  Purchased\n",
              "0       1   19            19000          0\n",
              "1       1   35            20000          0\n",
              "2       0   26            43000          0\n",
              "3       0   27            57000          0\n",
              "4       1   19            76000          0"
            ],
            "text/html": [
              "\n",
              "  <div id=\"df-bb28e335-9408-457e-a7fa-1be9a90221b9\">\n",
              "    <div class=\"colab-df-container\">\n",
              "      <div>\n",
              "<style scoped>\n",
              "    .dataframe tbody tr th:only-of-type {\n",
              "        vertical-align: middle;\n",
              "    }\n",
              "\n",
              "    .dataframe tbody tr th {\n",
              "        vertical-align: top;\n",
              "    }\n",
              "\n",
              "    .dataframe thead th {\n",
              "        text-align: right;\n",
              "    }\n",
              "</style>\n",
              "<table border=\"1\" class=\"dataframe\">\n",
              "  <thead>\n",
              "    <tr style=\"text-align: right;\">\n",
              "      <th></th>\n",
              "      <th>Gender</th>\n",
              "      <th>Age</th>\n",
              "      <th>EstimatedSalary</th>\n",
              "      <th>Purchased</th>\n",
              "    </tr>\n",
              "  </thead>\n",
              "  <tbody>\n",
              "    <tr>\n",
              "      <th>0</th>\n",
              "      <td>1</td>\n",
              "      <td>19</td>\n",
              "      <td>19000</td>\n",
              "      <td>0</td>\n",
              "    </tr>\n",
              "    <tr>\n",
              "      <th>1</th>\n",
              "      <td>1</td>\n",
              "      <td>35</td>\n",
              "      <td>20000</td>\n",
              "      <td>0</td>\n",
              "    </tr>\n",
              "    <tr>\n",
              "      <th>2</th>\n",
              "      <td>0</td>\n",
              "      <td>26</td>\n",
              "      <td>43000</td>\n",
              "      <td>0</td>\n",
              "    </tr>\n",
              "    <tr>\n",
              "      <th>3</th>\n",
              "      <td>0</td>\n",
              "      <td>27</td>\n",
              "      <td>57000</td>\n",
              "      <td>0</td>\n",
              "    </tr>\n",
              "    <tr>\n",
              "      <th>4</th>\n",
              "      <td>1</td>\n",
              "      <td>19</td>\n",
              "      <td>76000</td>\n",
              "      <td>0</td>\n",
              "    </tr>\n",
              "  </tbody>\n",
              "</table>\n",
              "</div>\n",
              "      <button class=\"colab-df-convert\" onclick=\"convertToInteractive('df-bb28e335-9408-457e-a7fa-1be9a90221b9')\"\n",
              "              title=\"Convert this dataframe to an interactive table.\"\n",
              "              style=\"display:none;\">\n",
              "        \n",
              "  <svg xmlns=\"http://www.w3.org/2000/svg\" height=\"24px\"viewBox=\"0 0 24 24\"\n",
              "       width=\"24px\">\n",
              "    <path d=\"M0 0h24v24H0V0z\" fill=\"none\"/>\n",
              "    <path d=\"M18.56 5.44l.94 2.06.94-2.06 2.06-.94-2.06-.94-.94-2.06-.94 2.06-2.06.94zm-11 1L8.5 8.5l.94-2.06 2.06-.94-2.06-.94L8.5 2.5l-.94 2.06-2.06.94zm10 10l.94 2.06.94-2.06 2.06-.94-2.06-.94-.94-2.06-.94 2.06-2.06.94z\"/><path d=\"M17.41 7.96l-1.37-1.37c-.4-.4-.92-.59-1.43-.59-.52 0-1.04.2-1.43.59L10.3 9.45l-7.72 7.72c-.78.78-.78 2.05 0 2.83L4 21.41c.39.39.9.59 1.41.59.51 0 1.02-.2 1.41-.59l7.78-7.78 2.81-2.81c.8-.78.8-2.07 0-2.86zM5.41 20L4 18.59l7.72-7.72 1.47 1.35L5.41 20z\"/>\n",
              "  </svg>\n",
              "      </button>\n",
              "      \n",
              "  <style>\n",
              "    .colab-df-container {\n",
              "      display:flex;\n",
              "      flex-wrap:wrap;\n",
              "      gap: 12px;\n",
              "    }\n",
              "\n",
              "    .colab-df-convert {\n",
              "      background-color: #E8F0FE;\n",
              "      border: none;\n",
              "      border-radius: 50%;\n",
              "      cursor: pointer;\n",
              "      display: none;\n",
              "      fill: #1967D2;\n",
              "      height: 32px;\n",
              "      padding: 0 0 0 0;\n",
              "      width: 32px;\n",
              "    }\n",
              "\n",
              "    .colab-df-convert:hover {\n",
              "      background-color: #E2EBFA;\n",
              "      box-shadow: 0px 1px 2px rgba(60, 64, 67, 0.3), 0px 1px 3px 1px rgba(60, 64, 67, 0.15);\n",
              "      fill: #174EA6;\n",
              "    }\n",
              "\n",
              "    [theme=dark] .colab-df-convert {\n",
              "      background-color: #3B4455;\n",
              "      fill: #D2E3FC;\n",
              "    }\n",
              "\n",
              "    [theme=dark] .colab-df-convert:hover {\n",
              "      background-color: #434B5C;\n",
              "      box-shadow: 0px 1px 3px 1px rgba(0, 0, 0, 0.15);\n",
              "      filter: drop-shadow(0px 1px 2px rgba(0, 0, 0, 0.3));\n",
              "      fill: #FFFFFF;\n",
              "    }\n",
              "  </style>\n",
              "\n",
              "      <script>\n",
              "        const buttonEl =\n",
              "          document.querySelector('#df-bb28e335-9408-457e-a7fa-1be9a90221b9 button.colab-df-convert');\n",
              "        buttonEl.style.display =\n",
              "          google.colab.kernel.accessAllowed ? 'block' : 'none';\n",
              "\n",
              "        async function convertToInteractive(key) {\n",
              "          const element = document.querySelector('#df-bb28e335-9408-457e-a7fa-1be9a90221b9');\n",
              "          const dataTable =\n",
              "            await google.colab.kernel.invokeFunction('convertToInteractive',\n",
              "                                                     [key], {});\n",
              "          if (!dataTable) return;\n",
              "\n",
              "          const docLinkHtml = 'Like what you see? Visit the ' +\n",
              "            '<a target=\"_blank\" href=https://colab.research.google.com/notebooks/data_table.ipynb>data table notebook</a>'\n",
              "            + ' to learn more about interactive tables.';\n",
              "          element.innerHTML = '';\n",
              "          dataTable['output_type'] = 'display_data';\n",
              "          await google.colab.output.renderOutput(dataTable, element);\n",
              "          const docLink = document.createElement('div');\n",
              "          docLink.innerHTML = docLinkHtml;\n",
              "          element.appendChild(docLink);\n",
              "        }\n",
              "      </script>\n",
              "    </div>\n",
              "  </div>\n",
              "  "
            ]
          },
          "metadata": {},
          "execution_count": 2
        }
      ]
    },
    {
      "cell_type": "code",
      "source": [
        "X = df.iloc[:,:-1].values\n",
        "y = df.iloc[:,3].values\n",
        "print(y.shape)\n",
        "print(X.shape)"
      ],
      "metadata": {
        "colab": {
          "base_uri": "https://localhost:8080/"
        },
        "id": "-ScFoT_dzNlq",
        "outputId": "6adc266f-6437-4ecd-ce0d-5c2176f20382"
      },
      "execution_count": 3,
      "outputs": [
        {
          "output_type": "stream",
          "name": "stdout",
          "text": [
            "(400,)\n",
            "(400, 3)\n"
          ]
        }
      ]
    },
    {
      "cell_type": "code",
      "source": [
        "from sklearn.model_selection import train_test_split\n",
        "import matplotlib.pyplot as plt\n",
        "from sklearn.metrics import r2_score \n",
        "from sklearn.metrics import accuracy_score\n",
        "X_train,X_test,y_train,y_test = train_test_split(X,y,test_size=0.2)"
      ],
      "metadata": {
        "id": "DIW35ziNzG_J"
      },
      "execution_count": 4,
      "outputs": []
    },
    {
      "cell_type": "code",
      "source": [
        "\n",
        "def normalize(X):\n",
        "    '''\n",
        "    function to normalize feature matrix, X\n",
        "    '''\n",
        "    mins = np.min(X, axis = 0)\n",
        "    maxs = np.max(X, axis = 0)\n",
        "    rng = maxs - mins\n",
        "    norm_X = 1 - ((maxs - X)/rng)\n",
        "    return norm_X\n",
        "  \n",
        "  \n",
        "def logistic_func(beta, X):\n",
        "    '''\n",
        "    logistic(sigmoid) function\n",
        "    '''\n",
        "    return 1.0/(1 + np.exp(-np.dot(X, beta.T)))\n",
        "  \n",
        "  \n",
        "def log_gradient(beta, X, y):\n",
        "    '''\n",
        "    logistic gradient function\n",
        "    '''\n",
        "    first_calc = logistic_func(beta, X) - y.reshape(X.shape[0], -1)\n",
        "    final_calc = np.dot(first_calc.T, X)\n",
        "    return final_calc\n",
        "  \n",
        "  \n",
        "def cost_func(beta, X, y):\n",
        "    '''\n",
        "    cost function, J\n",
        "    '''\n",
        "    log_func_v = logistic_func(beta, X)\n",
        "    y = np.squeeze(y)\n",
        "    step1 = y * np.log(log_func_v)\n",
        "    step2 = (1 - y) * np.log(1 - log_func_v)\n",
        "    final = -step1 - step2\n",
        "    return np.mean(final)\n",
        "  \n",
        "  \n",
        "def grad_desc(X, y, beta, lr=.01, converge_change=.01):\n",
        "    '''\n",
        "    gradient descent function\n",
        "    '''\n",
        "    cost = cost_func(beta, X, y)\n",
        "    change_cost = 1\n",
        "    num_iter = 1\n",
        "      \n",
        "    while(change_cost > converge_change):\n",
        "        old_cost = cost\n",
        "        beta = beta - (lr * log_gradient(beta, X, y))\n",
        "        cost = cost_func(beta, X, y)\n",
        "        change_cost = old_cost - cost\n",
        "        num_iter += 1\n",
        "      \n",
        "    return beta, num_iter \n",
        "  \n",
        "  \n",
        "def pred_values(beta, X):\n",
        "    '''\n",
        "    function to predict labels\n",
        "    '''\n",
        "    pred_prob = logistic_func(beta, X)\n",
        "    pred_value = np.where(pred_prob >= .5, 1, 0)\n",
        "    return np.squeeze(pred_value)\n",
        "  \n",
        "  \n",
        "if __name__ == \"__main__\":\n",
        "\n",
        "    X = X_train\n",
        "    y = y_train  \n",
        "    # normalizing feature matrix\n",
        "    X = normalize(X)\n",
        "      \n",
        "    # stacking columns with all ones in feature matrix\n",
        "    X = np.hstack((np.matrix(np.ones(X.shape[0])).T, X))\n",
        "\n",
        "    # initial beta values\n",
        "    beta = np.matrix(np.zeros(X.shape[1]))\n",
        "  \n",
        "    # beta values after running gradient descent\n",
        "    beta, num_iter = grad_desc(X, y, beta)\n",
        "  \n",
        "    # estimated beta values and number of iterations\n",
        "    print(\"Estimated regression coefficients:\", beta)\n",
        "    print(\"No. of iterations:\", num_iter)\n",
        "    \n",
        "    # predicted labels\n",
        "    X_test = normalize(X_test)\n",
        "    X_test = np.hstack((np.matrix(np.ones(X_test.shape[0])).T, X_test))\n",
        "    print(X_test.shape)\n",
        "    Y_pred = pred_values(beta, X_test)\n",
        "    acc = accuracy_score(y_test,Y_pred)\n",
        "    # number of correctly predicted labels\n",
        "\n",
        "    print(\"Correctly predicted labels: %s\" %acc)"
      ],
      "metadata": {
        "colab": {
          "base_uri": "https://localhost:8080/"
        },
        "id": "Pyaa02um9jQW",
        "outputId": "39b89ed6-aa28-45d0-e862-6b81e5c2e026"
      },
      "execution_count": 5,
      "outputs": [
        {
          "output_type": "stream",
          "name": "stdout",
          "text": [
            "Estimated regression coefficients: [[-6.62190849  0.44584757  8.43569811  3.56265817]]\n",
            "No. of iterations: 271\n",
            "(80, 4)\n",
            "Correctly predicted labels: 0.875\n"
          ]
        }
      ]
    },
    {
      "cell_type": "code",
      "source": [
        "X = df.iloc[:,:-1].values\n",
        "X = normalize(X)\n",
        "y = df.iloc[:,3].values\n",
        "print(y.shape)\n",
        "print(X.shape)\n",
        "X_train,X_test,y_train,y_test = train_test_split(X,y,test_size=0.2)\n",
        "from sklearn.linear_model import LogisticRegression\n",
        "from sklearn.metrics import accuracy_score,confusion_matrix\n",
        "clf = LogisticRegression()\n",
        "clf.fit(X_train, y_train)\n",
        "y_pred = clf.predict(X_test)\n",
        "acc = accuracy_score(y_test,y_pred)\n",
        "print('accuracy: %s' %acc)"
      ],
      "metadata": {
        "colab": {
          "base_uri": "https://localhost:8080/"
        },
        "id": "q4zb2ksi80l6",
        "outputId": "4a7f9d73-00aa-49ae-b7c3-42b307563e6d"
      },
      "execution_count": 6,
      "outputs": [
        {
          "output_type": "stream",
          "name": "stdout",
          "text": [
            "(400,)\n",
            "(400, 3)\n",
            "accuracy: 0.825\n"
          ]
        }
      ]
    }
  ]
}