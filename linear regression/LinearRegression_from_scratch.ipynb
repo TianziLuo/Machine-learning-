{
  "nbformat": 4,
  "nbformat_minor": 0,
  "metadata": {
    "colab": {
      "provenance": []
    },
    "kernelspec": {
      "name": "python3",
      "display_name": "Python 3"
    },
    "language_info": {
      "name": "python"
    }
  },
  "cells": [
    {
      "cell_type": "code",
      "execution_count": 131,
      "metadata": {
        "id": "SDc2pEg20gg2"
      },
      "outputs": [],
      "source": [
        "import numpy as np\n",
        "import pandas as pd\n",
        "n = 300\n",
        "a_0 = np.zeros((n,1))\n",
        "a_1 = np.zeros((n,1))"
      ]
    },
    {
      "cell_type": "code",
      "source": [
        "from google.colab import drive \n",
        "import random\n",
        "from random import sample\n",
        "drive.mount('/content/gdrive')\n",
        "df_train = pd.read_csv('/content/gdrive/MyDrive/machine learning/dataset/Linear regression/train.csv')\n",
        "df_test = pd.read_csv('/content/gdrive/MyDrive/machine learning/dataset/Linear regression/test.csv')\n",
        "df_train.dropna(inplace=True)\n",
        "df_train = df_train.head(300)\n",
        "#df_train.head()\n",
        "X_train = np.array(df_train['x'])\n",
        "print(df_train.shape)\n",
        "#print(X_train.shape)\n",
        "y_train = np.array(df_train['y'])\n",
        "X_test = np.array(df_test['x'])\n",
        "y_test = np.array(df_test['y'])\n",
        "X_train = X_train.reshape(-1,1)\n",
        "X_test = X_test.reshape(-1,1)\n",
        "print(X_train.shape)\n",
        "print(y_train.shape)"
      ],
      "metadata": {
        "colab": {
          "base_uri": "https://localhost:8080/"
        },
        "id": "tMSshQwKS_zl",
        "outputId": "41c1860a-0794-410f-f061-39ef3a58f1a1"
      },
      "execution_count": 132,
      "outputs": [
        {
          "output_type": "stream",
          "name": "stdout",
          "text": [
            "Drive already mounted at /content/gdrive; to attempt to forcibly remount, call drive.mount(\"/content/gdrive\", force_remount=True).\n",
            "(300, 2)\n",
            "(300, 1)\n",
            "(300,)\n"
          ]
        }
      ]
    },
    {
      "cell_type": "code",
      "source": [
        "epoch = 0\n",
        "lr = 0.0001\n",
        "n = 300\n",
        "while epoch < 50:\n",
        "  y_pred = a_0 + a_1 * X_train\n",
        "  #print(y_pred)\n",
        "  error = y_pred - y_train\n",
        "  mse = np.sum(error**2)\n",
        "  mse = np.float(mse/n)\n",
        "  a_0 = a_0 - lr * 2 * np.sum(error)/n\n",
        "  a_1 = a_1 - lr * 2 * np.sum(error * X_train)/n\n",
        "  epoch += 1\n",
        "  \n",
        "  if epoch % 10 == 0:\n",
        "    print(mse)\n",
        "    print(a_0.shape)\n",
        "    print(a_1.shape)"
      ],
      "metadata": {
        "colab": {
          "base_uri": "https://localhost:8080/"
        },
        "id": "ebsVeeBPNp7n",
        "outputId": "c24e759f-f7c0-4c72-8f0b-cad102cdd92f"
      },
      "execution_count": 133,
      "outputs": [
        {
          "output_type": "stream",
          "name": "stdout",
          "text": [
            "4.1570788629645675e+46\n",
            "(300, 1)\n",
            "(300, 1)\n",
            "1.1597815171895006e+92\n",
            "(300, 1)\n",
            "(300, 1)\n",
            "3.235669112746022e+137\n",
            "(300, 1)\n",
            "(300, 1)\n",
            "9.027178353858844e+182\n",
            "(300, 1)\n",
            "(300, 1)\n",
            "2.518488330941224e+228\n",
            "(300, 1)\n",
            "(300, 1)\n"
          ]
        },
        {
          "output_type": "stream",
          "name": "stderr",
          "text": [
            "<ipython-input-133-bdf0f0931c1f>:9: DeprecationWarning: `np.float` is a deprecated alias for the builtin `float`. To silence this warning, use `float` by itself. Doing this will not modify any behavior and is safe. If you specifically wanted the numpy scalar type, use `np.float64` here.\n",
            "Deprecated in NumPy 1.20; for more details and guidance: https://numpy.org/devdocs/release/1.20.0-notes.html#deprecations\n",
            "  mse = np.float(mse/n)\n"
          ]
        }
      ]
    },
    {
      "cell_type": "code",
      "source": [
        "import matplotlib.pyplot as plt\n",
        "from sklearn.metrics import r2_score \n",
        "y_prediction = a_0 + a_1 * X_test\n",
        "print('R2 Score:',r2_score(y_test,y_prediction))"
      ],
      "metadata": {
        "colab": {
          "base_uri": "https://localhost:8080/"
        },
        "id": "he97ddDweY0o",
        "outputId": "1c865335-a5ce-4dfb-a12a-18b3a792b66b"
      },
      "execution_count": 134,
      "outputs": [
        {
          "output_type": "stream",
          "name": "stdout",
          "text": [
            "R2 Score: -3.791228327186502e+227\n"
          ]
        }
      ]
    },
    {
      "cell_type": "code",
      "source": [],
      "metadata": {
        "id": "TaRe7EuTcVkn"
      },
      "execution_count": 134,
      "outputs": []
    }
  ]
}